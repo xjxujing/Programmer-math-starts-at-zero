{
 "cells": [
  {
   "cell_type": "markdown",
   "metadata": {},
   "source": [
    "## a 和 b 是两个整数，如果他们的差能够被另一个整数 n 整除，则称 a、b 对于模 n 同余\n",
    "\n",
    "记作 $a\\equiv b\\,(\\,mod \\: n\\,)$， 记作 a 和 b 关于模 n 同余。\n",
    " $a\\equiv b\\,(\\,mod \\: n\\,)$ 的等价形式是 $n\\, | \\,(\\,a - b \\,)$，例如：\n",
    " \n",
    " $28\\equiv 16\\,(\\,mod\\: 12\\,)$， $28\\equiv 16\\,(\\,mod\\: 4\\,)$， $19\\equiv -5\\,(\\,mod\\: 12\\,)$"
   ]
  },
  {
   "cell_type": "markdown",
   "metadata": {},
   "source": [
    "$a\\equiv b\\,(\\,mod \\: n\\,)$ 理解为 $a - b = kn$， k 是任意整数。当 $a\\equiv 0\\,(\\,mod \\: n\\,)$ 时，则 $n\\:|\\:a$"
   ]
  },
  {
   "cell_type": "markdown",
   "metadata": {},
   "source": [
    "\n",
    "同余：$a\\equiv b\\,(\\,mod \\: n\\,)$\n",
    "\n",
    "线性同余方程：$ax\\equiv b\\,(\\,mod\\:n\\,)\\,$\n",
    "\n",
    "乘法逆元：$aa^{-1}\\equiv 1\\,(\\,mod\\:n\\,)\\,$"
   ]
  },
  {
   "cell_type": "code",
   "execution_count": null,
   "metadata": {},
   "outputs": [],
   "source": []
  }
 ],
 "metadata": {
  "kernelspec": {
   "display_name": "Python 3",
   "language": "python",
   "name": "python3"
  },
  "language_info": {
   "codemirror_mode": {
    "name": "ipython",
    "version": 3
   },
   "file_extension": ".py",
   "mimetype": "text/x-python",
   "name": "python",
   "nbconvert_exporter": "python",
   "pygments_lexer": "ipython3",
   "version": "3.8.3"
  }
 },
 "nbformat": 4,
 "nbformat_minor": 4
}
